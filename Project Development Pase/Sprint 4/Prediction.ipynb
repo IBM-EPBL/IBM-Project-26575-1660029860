{
  "nbformat": 4,
  "nbformat_minor": 0,
  "metadata": {
    "colab": {
      "provenance": []
    },
    "kernelspec": {
      "name": "python3",
      "display_name": "Python 3"
    },
    "language_info": {
      "name": "python"
    }
  },
  "cells": [
    {
      "cell_type": "code",
      "execution_count": 1,
      "metadata": {
        "id": "7_EPBdDZ5PPR"
      },
      "outputs": [],
      "source": [
        "import numpy as np \n",
        "import pandas as pd\n",
        "\n",
        "import warnings\n",
        "warnings.filterwarnings('ignore')"
      ]
    },
    {
      "cell_type": "code",
      "source": [
        "df=pd.read_csv(\"loan_prediction.csv\")"
      ],
      "metadata": {
        "id": "wpcXktzL5jeU"
      },
      "execution_count": 3,
      "outputs": []
    },
    {
      "cell_type": "code",
      "source": [
        "df"
      ],
      "metadata": {
        "colab": {
          "base_uri": "https://localhost:8080/",
          "height": 505
        },
        "id": "wOrgM3i05m7T",
        "outputId": "5140deda-8c5a-4975-8bbf-5448f2949aac"
      },
      "execution_count": 4,
      "outputs": [
        {
          "output_type": "execute_result",
          "data": {
            "text/plain": [
              "      Loan_ID  Gender Married Dependents     Education Self_Employed  \\\n",
              "0    LP001002    Male      No          0      Graduate            No   \n",
              "1    LP001003    Male     Yes          1      Graduate            No   \n",
              "2    LP001005    Male     Yes          0      Graduate           Yes   \n",
              "3    LP001006    Male     Yes          0  Not Graduate            No   \n",
              "4    LP001008    Male      No          0      Graduate            No   \n",
              "..        ...     ...     ...        ...           ...           ...   \n",
              "609  LP002978  Female      No          0      Graduate            No   \n",
              "610  LP002979    Male     Yes         3+      Graduate            No   \n",
              "611  LP002983    Male     Yes          1      Graduate            No   \n",
              "612  LP002984    Male     Yes          2      Graduate            No   \n",
              "613  LP002990  Female      No          0      Graduate           Yes   \n",
              "\n",
              "     ApplicantIncome  CoapplicantIncome  LoanAmount  Loan_Amount_Term  \\\n",
              "0               5849                0.0         NaN             360.0   \n",
              "1               4583             1508.0       128.0             360.0   \n",
              "2               3000                0.0        66.0             360.0   \n",
              "3               2583             2358.0       120.0             360.0   \n",
              "4               6000                0.0       141.0             360.0   \n",
              "..               ...                ...         ...               ...   \n",
              "609             2900                0.0        71.0             360.0   \n",
              "610             4106                0.0        40.0             180.0   \n",
              "611             8072              240.0       253.0             360.0   \n",
              "612             7583                0.0       187.0             360.0   \n",
              "613             4583                0.0       133.0             360.0   \n",
              "\n",
              "     Credit_History Property_Area Loan_Status  \n",
              "0               1.0         Urban           Y  \n",
              "1               1.0         Rural           N  \n",
              "2               1.0         Urban           Y  \n",
              "3               1.0         Urban           Y  \n",
              "4               1.0         Urban           Y  \n",
              "..              ...           ...         ...  \n",
              "609             1.0         Rural           Y  \n",
              "610             1.0         Rural           Y  \n",
              "611             1.0         Urban           Y  \n",
              "612             1.0         Urban           Y  \n",
              "613             0.0     Semiurban           N  \n",
              "\n",
              "[614 rows x 13 columns]"
            ],
            "text/html": [
              "\n",
              "  <div id=\"df-ba877413-33cd-4be9-bdb0-0b75b6c81262\">\n",
              "    <div class=\"colab-df-container\">\n",
              "      <div>\n",
              "<style scoped>\n",
              "    .dataframe tbody tr th:only-of-type {\n",
              "        vertical-align: middle;\n",
              "    }\n",
              "\n",
              "    .dataframe tbody tr th {\n",
              "        vertical-align: top;\n",
              "    }\n",
              "\n",
              "    .dataframe thead th {\n",
              "        text-align: right;\n",
              "    }\n",
              "</style>\n",
              "<table border=\"1\" class=\"dataframe\">\n",
              "  <thead>\n",
              "    <tr style=\"text-align: right;\">\n",
              "      <th></th>\n",
              "      <th>Loan_ID</th>\n",
              "      <th>Gender</th>\n",
              "      <th>Married</th>\n",
              "      <th>Dependents</th>\n",
              "      <th>Education</th>\n",
              "      <th>Self_Employed</th>\n",
              "      <th>ApplicantIncome</th>\n",
              "      <th>CoapplicantIncome</th>\n",
              "      <th>LoanAmount</th>\n",
              "      <th>Loan_Amount_Term</th>\n",
              "      <th>Credit_History</th>\n",
              "      <th>Property_Area</th>\n",
              "      <th>Loan_Status</th>\n",
              "    </tr>\n",
              "  </thead>\n",
              "  <tbody>\n",
              "    <tr>\n",
              "      <th>0</th>\n",
              "      <td>LP001002</td>\n",
              "      <td>Male</td>\n",
              "      <td>No</td>\n",
              "      <td>0</td>\n",
              "      <td>Graduate</td>\n",
              "      <td>No</td>\n",
              "      <td>5849</td>\n",
              "      <td>0.0</td>\n",
              "      <td>NaN</td>\n",
              "      <td>360.0</td>\n",
              "      <td>1.0</td>\n",
              "      <td>Urban</td>\n",
              "      <td>Y</td>\n",
              "    </tr>\n",
              "    <tr>\n",
              "      <th>1</th>\n",
              "      <td>LP001003</td>\n",
              "      <td>Male</td>\n",
              "      <td>Yes</td>\n",
              "      <td>1</td>\n",
              "      <td>Graduate</td>\n",
              "      <td>No</td>\n",
              "      <td>4583</td>\n",
              "      <td>1508.0</td>\n",
              "      <td>128.0</td>\n",
              "      <td>360.0</td>\n",
              "      <td>1.0</td>\n",
              "      <td>Rural</td>\n",
              "      <td>N</td>\n",
              "    </tr>\n",
              "    <tr>\n",
              "      <th>2</th>\n",
              "      <td>LP001005</td>\n",
              "      <td>Male</td>\n",
              "      <td>Yes</td>\n",
              "      <td>0</td>\n",
              "      <td>Graduate</td>\n",
              "      <td>Yes</td>\n",
              "      <td>3000</td>\n",
              "      <td>0.0</td>\n",
              "      <td>66.0</td>\n",
              "      <td>360.0</td>\n",
              "      <td>1.0</td>\n",
              "      <td>Urban</td>\n",
              "      <td>Y</td>\n",
              "    </tr>\n",
              "    <tr>\n",
              "      <th>3</th>\n",
              "      <td>LP001006</td>\n",
              "      <td>Male</td>\n",
              "      <td>Yes</td>\n",
              "      <td>0</td>\n",
              "      <td>Not Graduate</td>\n",
              "      <td>No</td>\n",
              "      <td>2583</td>\n",
              "      <td>2358.0</td>\n",
              "      <td>120.0</td>\n",
              "      <td>360.0</td>\n",
              "      <td>1.0</td>\n",
              "      <td>Urban</td>\n",
              "      <td>Y</td>\n",
              "    </tr>\n",
              "    <tr>\n",
              "      <th>4</th>\n",
              "      <td>LP001008</td>\n",
              "      <td>Male</td>\n",
              "      <td>No</td>\n",
              "      <td>0</td>\n",
              "      <td>Graduate</td>\n",
              "      <td>No</td>\n",
              "      <td>6000</td>\n",
              "      <td>0.0</td>\n",
              "      <td>141.0</td>\n",
              "      <td>360.0</td>\n",
              "      <td>1.0</td>\n",
              "      <td>Urban</td>\n",
              "      <td>Y</td>\n",
              "    </tr>\n",
              "    <tr>\n",
              "      <th>...</th>\n",
              "      <td>...</td>\n",
              "      <td>...</td>\n",
              "      <td>...</td>\n",
              "      <td>...</td>\n",
              "      <td>...</td>\n",
              "      <td>...</td>\n",
              "      <td>...</td>\n",
              "      <td>...</td>\n",
              "      <td>...</td>\n",
              "      <td>...</td>\n",
              "      <td>...</td>\n",
              "      <td>...</td>\n",
              "      <td>...</td>\n",
              "    </tr>\n",
              "    <tr>\n",
              "      <th>609</th>\n",
              "      <td>LP002978</td>\n",
              "      <td>Female</td>\n",
              "      <td>No</td>\n",
              "      <td>0</td>\n",
              "      <td>Graduate</td>\n",
              "      <td>No</td>\n",
              "      <td>2900</td>\n",
              "      <td>0.0</td>\n",
              "      <td>71.0</td>\n",
              "      <td>360.0</td>\n",
              "      <td>1.0</td>\n",
              "      <td>Rural</td>\n",
              "      <td>Y</td>\n",
              "    </tr>\n",
              "    <tr>\n",
              "      <th>610</th>\n",
              "      <td>LP002979</td>\n",
              "      <td>Male</td>\n",
              "      <td>Yes</td>\n",
              "      <td>3+</td>\n",
              "      <td>Graduate</td>\n",
              "      <td>No</td>\n",
              "      <td>4106</td>\n",
              "      <td>0.0</td>\n",
              "      <td>40.0</td>\n",
              "      <td>180.0</td>\n",
              "      <td>1.0</td>\n",
              "      <td>Rural</td>\n",
              "      <td>Y</td>\n",
              "    </tr>\n",
              "    <tr>\n",
              "      <th>611</th>\n",
              "      <td>LP002983</td>\n",
              "      <td>Male</td>\n",
              "      <td>Yes</td>\n",
              "      <td>1</td>\n",
              "      <td>Graduate</td>\n",
              "      <td>No</td>\n",
              "      <td>8072</td>\n",
              "      <td>240.0</td>\n",
              "      <td>253.0</td>\n",
              "      <td>360.0</td>\n",
              "      <td>1.0</td>\n",
              "      <td>Urban</td>\n",
              "      <td>Y</td>\n",
              "    </tr>\n",
              "    <tr>\n",
              "      <th>612</th>\n",
              "      <td>LP002984</td>\n",
              "      <td>Male</td>\n",
              "      <td>Yes</td>\n",
              "      <td>2</td>\n",
              "      <td>Graduate</td>\n",
              "      <td>No</td>\n",
              "      <td>7583</td>\n",
              "      <td>0.0</td>\n",
              "      <td>187.0</td>\n",
              "      <td>360.0</td>\n",
              "      <td>1.0</td>\n",
              "      <td>Urban</td>\n",
              "      <td>Y</td>\n",
              "    </tr>\n",
              "    <tr>\n",
              "      <th>613</th>\n",
              "      <td>LP002990</td>\n",
              "      <td>Female</td>\n",
              "      <td>No</td>\n",
              "      <td>0</td>\n",
              "      <td>Graduate</td>\n",
              "      <td>Yes</td>\n",
              "      <td>4583</td>\n",
              "      <td>0.0</td>\n",
              "      <td>133.0</td>\n",
              "      <td>360.0</td>\n",
              "      <td>0.0</td>\n",
              "      <td>Semiurban</td>\n",
              "      <td>N</td>\n",
              "    </tr>\n",
              "  </tbody>\n",
              "</table>\n",
              "<p>614 rows × 13 columns</p>\n",
              "</div>\n",
              "      <button class=\"colab-df-convert\" onclick=\"convertToInteractive('df-ba877413-33cd-4be9-bdb0-0b75b6c81262')\"\n",
              "              title=\"Convert this dataframe to an interactive table.\"\n",
              "              style=\"display:none;\">\n",
              "        \n",
              "  <svg xmlns=\"http://www.w3.org/2000/svg\" height=\"24px\"viewBox=\"0 0 24 24\"\n",
              "       width=\"24px\">\n",
              "    <path d=\"M0 0h24v24H0V0z\" fill=\"none\"/>\n",
              "    <path d=\"M18.56 5.44l.94 2.06.94-2.06 2.06-.94-2.06-.94-.94-2.06-.94 2.06-2.06.94zm-11 1L8.5 8.5l.94-2.06 2.06-.94-2.06-.94L8.5 2.5l-.94 2.06-2.06.94zm10 10l.94 2.06.94-2.06 2.06-.94-2.06-.94-.94-2.06-.94 2.06-2.06.94z\"/><path d=\"M17.41 7.96l-1.37-1.37c-.4-.4-.92-.59-1.43-.59-.52 0-1.04.2-1.43.59L10.3 9.45l-7.72 7.72c-.78.78-.78 2.05 0 2.83L4 21.41c.39.39.9.59 1.41.59.51 0 1.02-.2 1.41-.59l7.78-7.78 2.81-2.81c.8-.78.8-2.07 0-2.86zM5.41 20L4 18.59l7.72-7.72 1.47 1.35L5.41 20z\"/>\n",
              "  </svg>\n",
              "      </button>\n",
              "      \n",
              "  <style>\n",
              "    .colab-df-container {\n",
              "      display:flex;\n",
              "      flex-wrap:wrap;\n",
              "      gap: 12px;\n",
              "    }\n",
              "\n",
              "    .colab-df-convert {\n",
              "      background-color: #E8F0FE;\n",
              "      border: none;\n",
              "      border-radius: 50%;\n",
              "      cursor: pointer;\n",
              "      display: none;\n",
              "      fill: #1967D2;\n",
              "      height: 32px;\n",
              "      padding: 0 0 0 0;\n",
              "      width: 32px;\n",
              "    }\n",
              "\n",
              "    .colab-df-convert:hover {\n",
              "      background-color: #E2EBFA;\n",
              "      box-shadow: 0px 1px 2px rgba(60, 64, 67, 0.3), 0px 1px 3px 1px rgba(60, 64, 67, 0.15);\n",
              "      fill: #174EA6;\n",
              "    }\n",
              "\n",
              "    [theme=dark] .colab-df-convert {\n",
              "      background-color: #3B4455;\n",
              "      fill: #D2E3FC;\n",
              "    }\n",
              "\n",
              "    [theme=dark] .colab-df-convert:hover {\n",
              "      background-color: #434B5C;\n",
              "      box-shadow: 0px 1px 3px 1px rgba(0, 0, 0, 0.15);\n",
              "      filter: drop-shadow(0px 1px 2px rgba(0, 0, 0, 0.3));\n",
              "      fill: #FFFFFF;\n",
              "    }\n",
              "  </style>\n",
              "\n",
              "      <script>\n",
              "        const buttonEl =\n",
              "          document.querySelector('#df-ba877413-33cd-4be9-bdb0-0b75b6c81262 button.colab-df-convert');\n",
              "        buttonEl.style.display =\n",
              "          google.colab.kernel.accessAllowed ? 'block' : 'none';\n",
              "\n",
              "        async function convertToInteractive(key) {\n",
              "          const element = document.querySelector('#df-ba877413-33cd-4be9-bdb0-0b75b6c81262');\n",
              "          const dataTable =\n",
              "            await google.colab.kernel.invokeFunction('convertToInteractive',\n",
              "                                                     [key], {});\n",
              "          if (!dataTable) return;\n",
              "\n",
              "          const docLinkHtml = 'Like what you see? Visit the ' +\n",
              "            '<a target=\"_blank\" href=https://colab.research.google.com/notebooks/data_table.ipynb>data table notebook</a>'\n",
              "            + ' to learn more about interactive tables.';\n",
              "          element.innerHTML = '';\n",
              "          dataTable['output_type'] = 'display_data';\n",
              "          await google.colab.output.renderOutput(dataTable, element);\n",
              "          const docLink = document.createElement('div');\n",
              "          docLink.innerHTML = docLinkHtml;\n",
              "          element.appendChild(docLink);\n",
              "        }\n",
              "      </script>\n",
              "    </div>\n",
              "  </div>\n",
              "  "
            ]
          },
          "metadata": {},
          "execution_count": 4
        }
      ]
    },
    {
      "cell_type": "code",
      "source": [
        "df.shape\n"
      ],
      "metadata": {
        "colab": {
          "base_uri": "https://localhost:8080/"
        },
        "id": "q4WHAp2H5p9z",
        "outputId": "a5ad9dfe-941b-4abe-954a-7fedc4e3c5fb"
      },
      "execution_count": 5,
      "outputs": [
        {
          "output_type": "execute_result",
          "data": {
            "text/plain": [
              "(614, 13)"
            ]
          },
          "metadata": {},
          "execution_count": 5
        }
      ]
    },
    {
      "cell_type": "markdown",
      "source": [
        "# Handle the Missing values"
      ],
      "metadata": {
        "id": "D-2uw56O5uf8"
      }
    },
    {
      "cell_type": "code",
      "source": [
        "df.isnull().sum()\n"
      ],
      "metadata": {
        "colab": {
          "base_uri": "https://localhost:8080/"
        },
        "id": "ZEVp2Pt55tTr",
        "outputId": "4116b4fb-7ab9-4d62-f57d-72a91f0468f5"
      },
      "execution_count": 6,
      "outputs": [
        {
          "output_type": "execute_result",
          "data": {
            "text/plain": [
              "Loan_ID               0\n",
              "Gender               13\n",
              "Married               3\n",
              "Dependents           15\n",
              "Education             0\n",
              "Self_Employed        32\n",
              "ApplicantIncome       0\n",
              "CoapplicantIncome     0\n",
              "LoanAmount           22\n",
              "Loan_Amount_Term     14\n",
              "Credit_History       50\n",
              "Property_Area         0\n",
              "Loan_Status           0\n",
              "dtype: int64"
            ]
          },
          "metadata": {},
          "execution_count": 6
        }
      ]
    },
    {
      "cell_type": "markdown",
      "source": [
        "# Treating the Null Value"
      ],
      "metadata": {
        "id": "9G_HKJqm9dUN"
      }
    },
    {
      "cell_type": "code",
      "source": [
        "numerical_features = df.select_dtypes(include = [np.number]).columns\n",
        "categorical_features = df.select_dtypes(include = [np.object]).columns"
      ],
      "metadata": {
        "id": "h9n-HKRV50OT"
      },
      "execution_count": 7,
      "outputs": []
    },
    {
      "cell_type": "code",
      "source": [
        "numerical_features"
      ],
      "metadata": {
        "colab": {
          "base_uri": "https://localhost:8080/"
        },
        "id": "y4rmAAFe54Mr",
        "outputId": "1edd7c35-9bf0-4f70-fffc-87c79cb225ac"
      },
      "execution_count": 8,
      "outputs": [
        {
          "output_type": "execute_result",
          "data": {
            "text/plain": [
              "Index(['ApplicantIncome', 'CoapplicantIncome', 'LoanAmount',\n",
              "       'Loan_Amount_Term', 'Credit_History'],\n",
              "      dtype='object')"
            ]
          },
          "metadata": {},
          "execution_count": 8
        }
      ]
    },
    {
      "cell_type": "code",
      "source": [
        "categorical_features"
      ],
      "metadata": {
        "colab": {
          "base_uri": "https://localhost:8080/"
        },
        "id": "Ufu5fyYs555D",
        "outputId": "2ed31422-177a-4105-885b-f66915e149cc"
      },
      "execution_count": 9,
      "outputs": [
        {
          "output_type": "execute_result",
          "data": {
            "text/plain": [
              "Index(['Loan_ID', 'Gender', 'Married', 'Dependents', 'Education',\n",
              "       'Self_Employed', 'Property_Area', 'Loan_Status'],\n",
              "      dtype='object')"
            ]
          },
          "metadata": {},
          "execution_count": 9
        }
      ]
    },
    {
      "cell_type": "code",
      "source": [
        "df['Gender'] = df['Gender'].fillna(df['Gender'].mode()[0])\n",
        "df['Married'] = df['Married'].fillna(df['Married'].mode()[0])\n",
        "#replace + with non value \n",
        "df['Dependents'] = df['Dependents'].str.replace('+','')\n",
        "df['Dependents'] = df['Dependents'].fillna(df['Dependents'].mode()[0])\n",
        "df['LoanAmount'] = df['LoanAmount'].fillna(df['LoanAmount'].mode()[0])\n",
        "df['Self_Employed'] = df['Self_Employed'].fillna(df['Self_Employed'].mode()[0])\n",
        "df['Loan_Amount_Term'] = df['Loan_Amount_Term'].fillna(df['Loan_Amount_Term'].mode()[0])\n",
        "df['Credit_History'] = df['Credit_History'].fillna(df['Credit_History'].mode()[0])\n"
      ],
      "metadata": {
        "id": "_ro-egt_58wb"
      },
      "execution_count": 11,
      "outputs": []
    },
    {
      "cell_type": "code",
      "source": [
        "df.isnull().sum()\n"
      ],
      "metadata": {
        "colab": {
          "base_uri": "https://localhost:8080/"
        },
        "id": "XwPA2bGV6AFD",
        "outputId": "aff01d6f-207b-4b48-8d65-89b9e20b630b"
      },
      "execution_count": 12,
      "outputs": [
        {
          "output_type": "execute_result",
          "data": {
            "text/plain": [
              "Loan_ID              0\n",
              "Gender               0\n",
              "Married              0\n",
              "Dependents           0\n",
              "Education            0\n",
              "Self_Employed        0\n",
              "ApplicantIncome      0\n",
              "CoapplicantIncome    0\n",
              "LoanAmount           0\n",
              "Loan_Amount_Term     0\n",
              "Credit_History       0\n",
              "Property_Area        0\n",
              "Loan_Status          0\n",
              "dtype: int64"
            ]
          },
          "metadata": {},
          "execution_count": 12
        }
      ]
    },
    {
      "cell_type": "markdown",
      "source": [
        "# Handling Categorical Values"
      ],
      "metadata": {
        "id": "rC7zE11v9pse"
      }
    },
    {
      "cell_type": "code",
      "source": [
        "df.select_dtypes(include='object').columns"
      ],
      "metadata": {
        "colab": {
          "base_uri": "https://localhost:8080/"
        },
        "id": "gKrnOVbo6HVr",
        "outputId": "9464f69e-d002-4589-92b2-3fe9fb0c3577"
      },
      "execution_count": 13,
      "outputs": [
        {
          "output_type": "execute_result",
          "data": {
            "text/plain": [
              "Index(['Loan_ID', 'Gender', 'Married', 'Dependents', 'Education',\n",
              "       'Self_Employed', 'Property_Area', 'Loan_Status'],\n",
              "      dtype='object')"
            ]
          },
          "metadata": {},
          "execution_count": 13
        }
      ]
    },
    {
      "cell_type": "code",
      "source": [
        "df['Gender'].unique()"
      ],
      "metadata": {
        "colab": {
          "base_uri": "https://localhost:8080/"
        },
        "id": "cXIn_HBM6Ji6",
        "outputId": "63fcfb71-4d01-4fe0-fb25-e7ded1d771ff"
      },
      "execution_count": 14,
      "outputs": [
        {
          "output_type": "execute_result",
          "data": {
            "text/plain": [
              "array(['Male', 'Female'], dtype=object)"
            ]
          },
          "metadata": {},
          "execution_count": 14
        }
      ]
    },
    {
      "cell_type": "code",
      "source": [
        "df['Gender'].replace({'Male':1,'Female':0},inplace=True)"
      ],
      "metadata": {
        "id": "LugMm9ja6NIS"
      },
      "execution_count": 15,
      "outputs": []
    },
    {
      "cell_type": "code",
      "source": [
        "df['Married'].unique()"
      ],
      "metadata": {
        "colab": {
          "base_uri": "https://localhost:8080/"
        },
        "id": "3NQMJCoj6Q_i",
        "outputId": "6e9840b0-f6d0-4d28-b59c-45623f346f11"
      },
      "execution_count": 16,
      "outputs": [
        {
          "output_type": "execute_result",
          "data": {
            "text/plain": [
              "array(['No', 'Yes'], dtype=object)"
            ]
          },
          "metadata": {},
          "execution_count": 16
        }
      ]
    },
    {
      "cell_type": "code",
      "source": [
        "df['Married'].replace({'Yes':1,'No':0},inplace=True)"
      ],
      "metadata": {
        "id": "UYnKD2py6T2K"
      },
      "execution_count": 17,
      "outputs": []
    },
    {
      "cell_type": "code",
      "source": [
        "df['Dependents'].unique()"
      ],
      "metadata": {
        "colab": {
          "base_uri": "https://localhost:8080/"
        },
        "id": "3yHfnm-96XLS",
        "outputId": "c75b77bf-f37c-475a-c641-ce762513ab6d"
      },
      "execution_count": 18,
      "outputs": [
        {
          "output_type": "execute_result",
          "data": {
            "text/plain": [
              "array(['0', '1', '2', '3'], dtype=object)"
            ]
          },
          "metadata": {},
          "execution_count": 18
        }
      ]
    },
    {
      "cell_type": "code",
      "source": [
        "df['Dependents'].replace({'0':0,'1':1,'2':2,'3':3},inplace=True)"
      ],
      "metadata": {
        "id": "9ky5YF0m6Zs5"
      },
      "execution_count": 19,
      "outputs": []
    },
    {
      "cell_type": "code",
      "source": [
        "df['Self_Employed'].unique()"
      ],
      "metadata": {
        "colab": {
          "base_uri": "https://localhost:8080/"
        },
        "id": "HJ9FWuWy6drh",
        "outputId": "3bbea00d-ec50-46eb-d158-536305d04388"
      },
      "execution_count": 20,
      "outputs": [
        {
          "output_type": "execute_result",
          "data": {
            "text/plain": [
              "array(['No', 'Yes'], dtype=object)"
            ]
          },
          "metadata": {},
          "execution_count": 20
        }
      ]
    },
    {
      "cell_type": "code",
      "source": [
        "df['Self_Employed'].replace({'Yes':1,'No':0},inplace=True)"
      ],
      "metadata": {
        "id": "1Fm7O2y76hXq"
      },
      "execution_count": 21,
      "outputs": []
    },
    {
      "cell_type": "code",
      "source": [
        "df['Property_Area'].unique()"
      ],
      "metadata": {
        "colab": {
          "base_uri": "https://localhost:8080/"
        },
        "id": "0HMC3CDx6mcS",
        "outputId": "d8830306-e8c0-4df6-d235-5417183b7335"
      },
      "execution_count": 22,
      "outputs": [
        {
          "output_type": "execute_result",
          "data": {
            "text/plain": [
              "array(['Urban', 'Rural', 'Semiurban'], dtype=object)"
            ]
          },
          "metadata": {},
          "execution_count": 22
        }
      ]
    },
    {
      "cell_type": "code",
      "source": [
        "df['Property_Area'].replace({'Urban':2,'Rural':0,'Semiurban':1},inplace=True)\n"
      ],
      "metadata": {
        "id": "iSEkrraa6pzq"
      },
      "execution_count": 24,
      "outputs": []
    },
    {
      "cell_type": "code",
      "source": [
        "df['Loan_Status'].unique()"
      ],
      "metadata": {
        "colab": {
          "base_uri": "https://localhost:8080/"
        },
        "id": "DXK51oKD6sma",
        "outputId": "3e161cb7-db26-4cae-ebc0-3ddda7532087"
      },
      "execution_count": 25,
      "outputs": [
        {
          "output_type": "execute_result",
          "data": {
            "text/plain": [
              "array(['Y', 'N'], dtype=object)"
            ]
          },
          "metadata": {},
          "execution_count": 25
        }
      ]
    },
    {
      "cell_type": "code",
      "source": [
        "df['Loan_Status'].replace({'Y':1,'N':0},inplace=True)"
      ],
      "metadata": {
        "id": "13V2eb876ve6"
      },
      "execution_count": 26,
      "outputs": []
    },
    {
      "cell_type": "code",
      "source": [
        "df['Education'].unique()"
      ],
      "metadata": {
        "colab": {
          "base_uri": "https://localhost:8080/"
        },
        "id": "RYumNHCj635S",
        "outputId": "ff42fe67-4f10-4815-f320-5cc4121d7f67"
      },
      "execution_count": 27,
      "outputs": [
        {
          "output_type": "execute_result",
          "data": {
            "text/plain": [
              "array(['Graduate', 'Not Graduate'], dtype=object)"
            ]
          },
          "metadata": {},
          "execution_count": 27
        }
      ]
    },
    {
      "cell_type": "code",
      "source": [
        "df['Education'].replace({'Graduate':1,'Not Graduate':0},inplace=True)"
      ],
      "metadata": {
        "id": "2u5sSS4v66tS"
      },
      "execution_count": 28,
      "outputs": []
    },
    {
      "cell_type": "code",
      "source": [
        "df['CoapplicantIncome']=df['CoapplicantIncome'].astype(\"int64\")\n",
        "df['LoanAmount']=df['LoanAmount'].astype(\"int64\")\n",
        "df['Loan_Amount_Term']=df['Loan_Amount_Term'].astype(\"int64\")\n",
        "df['Credit_History']=df['Credit_History'].astype(\"int64\")"
      ],
      "metadata": {
        "id": "zmlqn7a969wy"
      },
      "execution_count": 29,
      "outputs": []
    },
    {
      "cell_type": "code",
      "source": [
        "# dummy columns are created for the categories in Loan_ID\n",
        "from sklearn.preprocessing import LabelEncoder\n",
        "le = LabelEncoder()\n",
        "df['Loan_ID'] = le.fit_transform(df.Loan_ID)"
      ],
      "metadata": {
        "id": "9nBr56ot7AcK"
      },
      "execution_count": 30,
      "outputs": []
    },
    {
      "cell_type": "code",
      "source": [
        "df.head()\n"
      ],
      "metadata": {
        "colab": {
          "base_uri": "https://localhost:8080/",
          "height": 270
        },
        "id": "qqUvzNTZ7DCh",
        "outputId": "c8c09c4b-5b49-4ae6-f230-8dd9ad8f09c7"
      },
      "execution_count": 31,
      "outputs": [
        {
          "output_type": "execute_result",
          "data": {
            "text/plain": [
              "   Loan_ID  Gender  Married  Dependents  Education  Self_Employed  \\\n",
              "0        0       1        0           0          1              0   \n",
              "1        1       1        1           1          1              0   \n",
              "2        2       1        1           0          1              1   \n",
              "3        3       1        1           0          0              0   \n",
              "4        4       1        0           0          1              0   \n",
              "\n",
              "   ApplicantIncome  CoapplicantIncome  LoanAmount  Loan_Amount_Term  \\\n",
              "0             5849                  0         120               360   \n",
              "1             4583               1508         128               360   \n",
              "2             3000                  0          66               360   \n",
              "3             2583               2358         120               360   \n",
              "4             6000                  0         141               360   \n",
              "\n",
              "   Credit_History  Property_Area  Loan_Status  \n",
              "0               1              2            1  \n",
              "1               1              0            0  \n",
              "2               1              2            1  \n",
              "3               1              2            1  \n",
              "4               1              2            1  "
            ],
            "text/html": [
              "\n",
              "  <div id=\"df-6d42147c-4f69-4b0e-8043-c3c3935e9ffb\">\n",
              "    <div class=\"colab-df-container\">\n",
              "      <div>\n",
              "<style scoped>\n",
              "    .dataframe tbody tr th:only-of-type {\n",
              "        vertical-align: middle;\n",
              "    }\n",
              "\n",
              "    .dataframe tbody tr th {\n",
              "        vertical-align: top;\n",
              "    }\n",
              "\n",
              "    .dataframe thead th {\n",
              "        text-align: right;\n",
              "    }\n",
              "</style>\n",
              "<table border=\"1\" class=\"dataframe\">\n",
              "  <thead>\n",
              "    <tr style=\"text-align: right;\">\n",
              "      <th></th>\n",
              "      <th>Loan_ID</th>\n",
              "      <th>Gender</th>\n",
              "      <th>Married</th>\n",
              "      <th>Dependents</th>\n",
              "      <th>Education</th>\n",
              "      <th>Self_Employed</th>\n",
              "      <th>ApplicantIncome</th>\n",
              "      <th>CoapplicantIncome</th>\n",
              "      <th>LoanAmount</th>\n",
              "      <th>Loan_Amount_Term</th>\n",
              "      <th>Credit_History</th>\n",
              "      <th>Property_Area</th>\n",
              "      <th>Loan_Status</th>\n",
              "    </tr>\n",
              "  </thead>\n",
              "  <tbody>\n",
              "    <tr>\n",
              "      <th>0</th>\n",
              "      <td>0</td>\n",
              "      <td>1</td>\n",
              "      <td>0</td>\n",
              "      <td>0</td>\n",
              "      <td>1</td>\n",
              "      <td>0</td>\n",
              "      <td>5849</td>\n",
              "      <td>0</td>\n",
              "      <td>120</td>\n",
              "      <td>360</td>\n",
              "      <td>1</td>\n",
              "      <td>2</td>\n",
              "      <td>1</td>\n",
              "    </tr>\n",
              "    <tr>\n",
              "      <th>1</th>\n",
              "      <td>1</td>\n",
              "      <td>1</td>\n",
              "      <td>1</td>\n",
              "      <td>1</td>\n",
              "      <td>1</td>\n",
              "      <td>0</td>\n",
              "      <td>4583</td>\n",
              "      <td>1508</td>\n",
              "      <td>128</td>\n",
              "      <td>360</td>\n",
              "      <td>1</td>\n",
              "      <td>0</td>\n",
              "      <td>0</td>\n",
              "    </tr>\n",
              "    <tr>\n",
              "      <th>2</th>\n",
              "      <td>2</td>\n",
              "      <td>1</td>\n",
              "      <td>1</td>\n",
              "      <td>0</td>\n",
              "      <td>1</td>\n",
              "      <td>1</td>\n",
              "      <td>3000</td>\n",
              "      <td>0</td>\n",
              "      <td>66</td>\n",
              "      <td>360</td>\n",
              "      <td>1</td>\n",
              "      <td>2</td>\n",
              "      <td>1</td>\n",
              "    </tr>\n",
              "    <tr>\n",
              "      <th>3</th>\n",
              "      <td>3</td>\n",
              "      <td>1</td>\n",
              "      <td>1</td>\n",
              "      <td>0</td>\n",
              "      <td>0</td>\n",
              "      <td>0</td>\n",
              "      <td>2583</td>\n",
              "      <td>2358</td>\n",
              "      <td>120</td>\n",
              "      <td>360</td>\n",
              "      <td>1</td>\n",
              "      <td>2</td>\n",
              "      <td>1</td>\n",
              "    </tr>\n",
              "    <tr>\n",
              "      <th>4</th>\n",
              "      <td>4</td>\n",
              "      <td>1</td>\n",
              "      <td>0</td>\n",
              "      <td>0</td>\n",
              "      <td>1</td>\n",
              "      <td>0</td>\n",
              "      <td>6000</td>\n",
              "      <td>0</td>\n",
              "      <td>141</td>\n",
              "      <td>360</td>\n",
              "      <td>1</td>\n",
              "      <td>2</td>\n",
              "      <td>1</td>\n",
              "    </tr>\n",
              "  </tbody>\n",
              "</table>\n",
              "</div>\n",
              "      <button class=\"colab-df-convert\" onclick=\"convertToInteractive('df-6d42147c-4f69-4b0e-8043-c3c3935e9ffb')\"\n",
              "              title=\"Convert this dataframe to an interactive table.\"\n",
              "              style=\"display:none;\">\n",
              "        \n",
              "  <svg xmlns=\"http://www.w3.org/2000/svg\" height=\"24px\"viewBox=\"0 0 24 24\"\n",
              "       width=\"24px\">\n",
              "    <path d=\"M0 0h24v24H0V0z\" fill=\"none\"/>\n",
              "    <path d=\"M18.56 5.44l.94 2.06.94-2.06 2.06-.94-2.06-.94-.94-2.06-.94 2.06-2.06.94zm-11 1L8.5 8.5l.94-2.06 2.06-.94-2.06-.94L8.5 2.5l-.94 2.06-2.06.94zm10 10l.94 2.06.94-2.06 2.06-.94-2.06-.94-.94-2.06-.94 2.06-2.06.94z\"/><path d=\"M17.41 7.96l-1.37-1.37c-.4-.4-.92-.59-1.43-.59-.52 0-1.04.2-1.43.59L10.3 9.45l-7.72 7.72c-.78.78-.78 2.05 0 2.83L4 21.41c.39.39.9.59 1.41.59.51 0 1.02-.2 1.41-.59l7.78-7.78 2.81-2.81c.8-.78.8-2.07 0-2.86zM5.41 20L4 18.59l7.72-7.72 1.47 1.35L5.41 20z\"/>\n",
              "  </svg>\n",
              "      </button>\n",
              "      \n",
              "  <style>\n",
              "    .colab-df-container {\n",
              "      display:flex;\n",
              "      flex-wrap:wrap;\n",
              "      gap: 12px;\n",
              "    }\n",
              "\n",
              "    .colab-df-convert {\n",
              "      background-color: #E8F0FE;\n",
              "      border: none;\n",
              "      border-radius: 50%;\n",
              "      cursor: pointer;\n",
              "      display: none;\n",
              "      fill: #1967D2;\n",
              "      height: 32px;\n",
              "      padding: 0 0 0 0;\n",
              "      width: 32px;\n",
              "    }\n",
              "\n",
              "    .colab-df-convert:hover {\n",
              "      background-color: #E2EBFA;\n",
              "      box-shadow: 0px 1px 2px rgba(60, 64, 67, 0.3), 0px 1px 3px 1px rgba(60, 64, 67, 0.15);\n",
              "      fill: #174EA6;\n",
              "    }\n",
              "\n",
              "    [theme=dark] .colab-df-convert {\n",
              "      background-color: #3B4455;\n",
              "      fill: #D2E3FC;\n",
              "    }\n",
              "\n",
              "    [theme=dark] .colab-df-convert:hover {\n",
              "      background-color: #434B5C;\n",
              "      box-shadow: 0px 1px 3px 1px rgba(0, 0, 0, 0.15);\n",
              "      filter: drop-shadow(0px 1px 2px rgba(0, 0, 0, 0.3));\n",
              "      fill: #FFFFFF;\n",
              "    }\n",
              "  </style>\n",
              "\n",
              "      <script>\n",
              "        const buttonEl =\n",
              "          document.querySelector('#df-6d42147c-4f69-4b0e-8043-c3c3935e9ffb button.colab-df-convert');\n",
              "        buttonEl.style.display =\n",
              "          google.colab.kernel.accessAllowed ? 'block' : 'none';\n",
              "\n",
              "        async function convertToInteractive(key) {\n",
              "          const element = document.querySelector('#df-6d42147c-4f69-4b0e-8043-c3c3935e9ffb');\n",
              "          const dataTable =\n",
              "            await google.colab.kernel.invokeFunction('convertToInteractive',\n",
              "                                                     [key], {});\n",
              "          if (!dataTable) return;\n",
              "\n",
              "          const docLinkHtml = 'Like what you see? Visit the ' +\n",
              "            '<a target=\"_blank\" href=https://colab.research.google.com/notebooks/data_table.ipynb>data table notebook</a>'\n",
              "            + ' to learn more about interactive tables.';\n",
              "          element.innerHTML = '';\n",
              "          dataTable['output_type'] = 'display_data';\n",
              "          await google.colab.output.renderOutput(dataTable, element);\n",
              "          const docLink = document.createElement('div');\n",
              "          docLink.innerHTML = docLinkHtml;\n",
              "          element.appendChild(docLink);\n",
              "        }\n",
              "      </script>\n",
              "    </div>\n",
              "  </div>\n",
              "  "
            ]
          },
          "metadata": {},
          "execution_count": 31
        }
      ]
    },
    {
      "cell_type": "markdown",
      "source": [
        "# Balancing The Dataset"
      ],
      "metadata": {
        "id": "Pzvy7QbO94z4"
      }
    },
    {
      "cell_type": "code",
      "source": [
        "from imblearn.combine import SMOTETomek"
      ],
      "metadata": {
        "id": "XaMk5Ulo7IaD"
      },
      "execution_count": 32,
      "outputs": []
    },
    {
      "cell_type": "code",
      "source": [
        "smote = SMOTETomek(0.90)"
      ],
      "metadata": {
        "id": "xGjvdU887LTJ"
      },
      "execution_count": 33,
      "outputs": []
    },
    {
      "cell_type": "code",
      "source": [
        "#dividing the dataset into dependent and independent y and x respectively\n",
        "\n",
        "y = df['Loan_Status']\n",
        "x = df.drop(columns=['Loan_Status'],axis=1)"
      ],
      "metadata": {
        "id": "Fpw0RT2G7MoZ"
      },
      "execution_count": 34,
      "outputs": []
    },
    {
      "cell_type": "code",
      "source": [
        "#creating the new x and y for balance data\n",
        "x_bal,y_bal = smote.fit_resample(x,y)"
      ],
      "metadata": {
        "id": "_2MUNgcg7O0y"
      },
      "execution_count": 35,
      "outputs": []
    },
    {
      "cell_type": "code",
      "source": [
        "#printing the value before and after balancing \n",
        "print(y.value_counts())\n",
        "print(y_bal.value_counts())\n"
      ],
      "metadata": {
        "colab": {
          "base_uri": "https://localhost:8080/"
        },
        "id": "-he2N_QF7Q4C",
        "outputId": "f8d2d6dd-5160-49e1-ec05-2070d560dced"
      },
      "execution_count": 36,
      "outputs": [
        {
          "output_type": "stream",
          "name": "stdout",
          "text": [
            "1    422\n",
            "0    192\n",
            "Name: Loan_Status, dtype: int64\n",
            "1    370\n",
            "0    327\n",
            "Name: Loan_Status, dtype: int64\n"
          ]
        }
      ]
    },
    {
      "cell_type": "markdown",
      "source": [
        "\n",
        "# Scaling The Data"
      ],
      "metadata": {
        "id": "WsKnj6V599Wf"
      }
    },
    {
      "cell_type": "code",
      "source": [
        "from sklearn.preprocessing import StandardScaler\n"
      ],
      "metadata": {
        "id": "lBtxP6CJ7TqZ"
      },
      "execution_count": 37,
      "outputs": []
    },
    {
      "cell_type": "code",
      "source": [
        "sc = StandardScaler()\n",
        "x_bal = sc.fit_transform(x_bal)"
      ],
      "metadata": {
        "id": "vp08Jajw7Woh"
      },
      "execution_count": 38,
      "outputs": []
    },
    {
      "cell_type": "code",
      "source": [
        "x_bal = pd.DataFrame(x_bal)"
      ],
      "metadata": {
        "id": "ywvVSXoc7ZPB"
      },
      "execution_count": 39,
      "outputs": []
    },
    {
      "cell_type": "code",
      "source": [
        "x_bal.head()\n",
        "\n",
        "\n"
      ],
      "metadata": {
        "colab": {
          "base_uri": "https://localhost:8080/",
          "height": 270
        },
        "id": "fvM5JQE57aWZ",
        "outputId": "0ed75286-5456-443a-d536-5b76d0983f2e"
      },
      "execution_count": 40,
      "outputs": [
        {
          "output_type": "execute_result",
          "data": {
            "text/plain": [
              "         0         1         2         3         4         5         6   \\\n",
              "0 -1.762937  0.514755 -1.174240 -0.708088  0.627694 -0.334130  0.090721   \n",
              "1 -1.757097  0.514755  0.851615  0.344230  0.627694 -0.334130 -0.136207   \n",
              "2 -1.751258  0.514755  0.851615 -0.708088  0.627694  2.992849 -0.419958   \n",
              "3 -1.745418  0.514755  0.851615 -0.708088 -1.593132 -0.334130 -0.494705   \n",
              "4 -1.739578  0.514755 -1.174240 -0.708088  0.627694 -0.334130  0.117788   \n",
              "\n",
              "         7         8         9         10        11  \n",
              "0 -0.493612 -0.310718  0.275633  0.601106  1.334267  \n",
              "1 -0.014487 -0.210344  0.275633  0.601106 -1.241866  \n",
              "2 -0.493612 -0.988247  0.275633  0.601106  1.334267  \n",
              "3  0.255577 -0.310718  0.275633  0.601106  1.334267  \n",
              "4 -0.493612 -0.047235  0.275633  0.601106  1.334267  "
            ],
            "text/html": [
              "\n",
              "  <div id=\"df-5a9bcb64-5994-472b-bf18-9113c10fb5cd\">\n",
              "    <div class=\"colab-df-container\">\n",
              "      <div>\n",
              "<style scoped>\n",
              "    .dataframe tbody tr th:only-of-type {\n",
              "        vertical-align: middle;\n",
              "    }\n",
              "\n",
              "    .dataframe tbody tr th {\n",
              "        vertical-align: top;\n",
              "    }\n",
              "\n",
              "    .dataframe thead th {\n",
              "        text-align: right;\n",
              "    }\n",
              "</style>\n",
              "<table border=\"1\" class=\"dataframe\">\n",
              "  <thead>\n",
              "    <tr style=\"text-align: right;\">\n",
              "      <th></th>\n",
              "      <th>0</th>\n",
              "      <th>1</th>\n",
              "      <th>2</th>\n",
              "      <th>3</th>\n",
              "      <th>4</th>\n",
              "      <th>5</th>\n",
              "      <th>6</th>\n",
              "      <th>7</th>\n",
              "      <th>8</th>\n",
              "      <th>9</th>\n",
              "      <th>10</th>\n",
              "      <th>11</th>\n",
              "    </tr>\n",
              "  </thead>\n",
              "  <tbody>\n",
              "    <tr>\n",
              "      <th>0</th>\n",
              "      <td>-1.762937</td>\n",
              "      <td>0.514755</td>\n",
              "      <td>-1.174240</td>\n",
              "      <td>-0.708088</td>\n",
              "      <td>0.627694</td>\n",
              "      <td>-0.334130</td>\n",
              "      <td>0.090721</td>\n",
              "      <td>-0.493612</td>\n",
              "      <td>-0.310718</td>\n",
              "      <td>0.275633</td>\n",
              "      <td>0.601106</td>\n",
              "      <td>1.334267</td>\n",
              "    </tr>\n",
              "    <tr>\n",
              "      <th>1</th>\n",
              "      <td>-1.757097</td>\n",
              "      <td>0.514755</td>\n",
              "      <td>0.851615</td>\n",
              "      <td>0.344230</td>\n",
              "      <td>0.627694</td>\n",
              "      <td>-0.334130</td>\n",
              "      <td>-0.136207</td>\n",
              "      <td>-0.014487</td>\n",
              "      <td>-0.210344</td>\n",
              "      <td>0.275633</td>\n",
              "      <td>0.601106</td>\n",
              "      <td>-1.241866</td>\n",
              "    </tr>\n",
              "    <tr>\n",
              "      <th>2</th>\n",
              "      <td>-1.751258</td>\n",
              "      <td>0.514755</td>\n",
              "      <td>0.851615</td>\n",
              "      <td>-0.708088</td>\n",
              "      <td>0.627694</td>\n",
              "      <td>2.992849</td>\n",
              "      <td>-0.419958</td>\n",
              "      <td>-0.493612</td>\n",
              "      <td>-0.988247</td>\n",
              "      <td>0.275633</td>\n",
              "      <td>0.601106</td>\n",
              "      <td>1.334267</td>\n",
              "    </tr>\n",
              "    <tr>\n",
              "      <th>3</th>\n",
              "      <td>-1.745418</td>\n",
              "      <td>0.514755</td>\n",
              "      <td>0.851615</td>\n",
              "      <td>-0.708088</td>\n",
              "      <td>-1.593132</td>\n",
              "      <td>-0.334130</td>\n",
              "      <td>-0.494705</td>\n",
              "      <td>0.255577</td>\n",
              "      <td>-0.310718</td>\n",
              "      <td>0.275633</td>\n",
              "      <td>0.601106</td>\n",
              "      <td>1.334267</td>\n",
              "    </tr>\n",
              "    <tr>\n",
              "      <th>4</th>\n",
              "      <td>-1.739578</td>\n",
              "      <td>0.514755</td>\n",
              "      <td>-1.174240</td>\n",
              "      <td>-0.708088</td>\n",
              "      <td>0.627694</td>\n",
              "      <td>-0.334130</td>\n",
              "      <td>0.117788</td>\n",
              "      <td>-0.493612</td>\n",
              "      <td>-0.047235</td>\n",
              "      <td>0.275633</td>\n",
              "      <td>0.601106</td>\n",
              "      <td>1.334267</td>\n",
              "    </tr>\n",
              "  </tbody>\n",
              "</table>\n",
              "</div>\n",
              "      <button class=\"colab-df-convert\" onclick=\"convertToInteractive('df-5a9bcb64-5994-472b-bf18-9113c10fb5cd')\"\n",
              "              title=\"Convert this dataframe to an interactive table.\"\n",
              "              style=\"display:none;\">\n",
              "        \n",
              "  <svg xmlns=\"http://www.w3.org/2000/svg\" height=\"24px\"viewBox=\"0 0 24 24\"\n",
              "       width=\"24px\">\n",
              "    <path d=\"M0 0h24v24H0V0z\" fill=\"none\"/>\n",
              "    <path d=\"M18.56 5.44l.94 2.06.94-2.06 2.06-.94-2.06-.94-.94-2.06-.94 2.06-2.06.94zm-11 1L8.5 8.5l.94-2.06 2.06-.94-2.06-.94L8.5 2.5l-.94 2.06-2.06.94zm10 10l.94 2.06.94-2.06 2.06-.94-2.06-.94-.94-2.06-.94 2.06-2.06.94z\"/><path d=\"M17.41 7.96l-1.37-1.37c-.4-.4-.92-.59-1.43-.59-.52 0-1.04.2-1.43.59L10.3 9.45l-7.72 7.72c-.78.78-.78 2.05 0 2.83L4 21.41c.39.39.9.59 1.41.59.51 0 1.02-.2 1.41-.59l7.78-7.78 2.81-2.81c.8-.78.8-2.07 0-2.86zM5.41 20L4 18.59l7.72-7.72 1.47 1.35L5.41 20z\"/>\n",
              "  </svg>\n",
              "      </button>\n",
              "      \n",
              "  <style>\n",
              "    .colab-df-container {\n",
              "      display:flex;\n",
              "      flex-wrap:wrap;\n",
              "      gap: 12px;\n",
              "    }\n",
              "\n",
              "    .colab-df-convert {\n",
              "      background-color: #E8F0FE;\n",
              "      border: none;\n",
              "      border-radius: 50%;\n",
              "      cursor: pointer;\n",
              "      display: none;\n",
              "      fill: #1967D2;\n",
              "      height: 32px;\n",
              "      padding: 0 0 0 0;\n",
              "      width: 32px;\n",
              "    }\n",
              "\n",
              "    .colab-df-convert:hover {\n",
              "      background-color: #E2EBFA;\n",
              "      box-shadow: 0px 1px 2px rgba(60, 64, 67, 0.3), 0px 1px 3px 1px rgba(60, 64, 67, 0.15);\n",
              "      fill: #174EA6;\n",
              "    }\n",
              "\n",
              "    [theme=dark] .colab-df-convert {\n",
              "      background-color: #3B4455;\n",
              "      fill: #D2E3FC;\n",
              "    }\n",
              "\n",
              "    [theme=dark] .colab-df-convert:hover {\n",
              "      background-color: #434B5C;\n",
              "      box-shadow: 0px 1px 3px 1px rgba(0, 0, 0, 0.15);\n",
              "      filter: drop-shadow(0px 1px 2px rgba(0, 0, 0, 0.3));\n",
              "      fill: #FFFFFF;\n",
              "    }\n",
              "  </style>\n",
              "\n",
              "      <script>\n",
              "        const buttonEl =\n",
              "          document.querySelector('#df-5a9bcb64-5994-472b-bf18-9113c10fb5cd button.colab-df-convert');\n",
              "        buttonEl.style.display =\n",
              "          google.colab.kernel.accessAllowed ? 'block' : 'none';\n",
              "\n",
              "        async function convertToInteractive(key) {\n",
              "          const element = document.querySelector('#df-5a9bcb64-5994-472b-bf18-9113c10fb5cd');\n",
              "          const dataTable =\n",
              "            await google.colab.kernel.invokeFunction('convertToInteractive',\n",
              "                                                     [key], {});\n",
              "          if (!dataTable) return;\n",
              "\n",
              "          const docLinkHtml = 'Like what you see? Visit the ' +\n",
              "            '<a target=\"_blank\" href=https://colab.research.google.com/notebooks/data_table.ipynb>data table notebook</a>'\n",
              "            + ' to learn more about interactive tables.';\n",
              "          element.innerHTML = '';\n",
              "          dataTable['output_type'] = 'display_data';\n",
              "          await google.colab.output.renderOutput(dataTable, element);\n",
              "          const docLink = document.createElement('div');\n",
              "          docLink.innerHTML = docLinkHtml;\n",
              "          element.appendChild(docLink);\n",
              "        }\n",
              "      </script>\n",
              "    </div>\n",
              "  </div>\n",
              "  "
            ]
          },
          "metadata": {},
          "execution_count": 40
        }
      ]
    },
    {
      "cell_type": "markdown",
      "source": [
        "# Splitting Data Into Train And Test"
      ],
      "metadata": {
        "id": "wrrQ4A9d-BGI"
      }
    },
    {
      "cell_type": "code",
      "source": [
        "# splitting the data into training and testing set\n",
        "\n",
        "from sklearn.model_selection import train_test_split"
      ],
      "metadata": {
        "id": "4BNK-FJ27eRB"
      },
      "execution_count": 41,
      "outputs": []
    },
    {
      "cell_type": "code",
      "source": [
        "x_train, x_test, y_train, y_test = train_test_split(x_bal, y_bal, test_size = 0.33, random_state = 42)\n"
      ],
      "metadata": {
        "id": "G_R2TztJ7gSx"
      },
      "execution_count": 42,
      "outputs": []
    },
    {
      "cell_type": "code",
      "source": [
        "print(x_train.shape)\n",
        "print(y_train.shape)\n",
        "print(x_test.shape)\n",
        "print(y_test.shape)"
      ],
      "metadata": {
        "colab": {
          "base_uri": "https://localhost:8080/"
        },
        "id": "_iQYhuPZ7lMw",
        "outputId": "393f10d6-f4a8-430b-a6ed-1c882a072c2b"
      },
      "execution_count": 44,
      "outputs": [
        {
          "output_type": "stream",
          "name": "stdout",
          "text": [
            "(466, 12)\n",
            "(466,)\n",
            "(231, 12)\n",
            "(231,)\n"
          ]
        }
      ]
    },
    {
      "cell_type": "code",
      "source": [
        "x_train.to_csv('train.csv',encoding='utf-8',index=False)\n",
        "x_test.to_csv('test.csv',encoding='utf-8',index=False)"
      ],
      "metadata": {
        "id": "6rw7OfNP7nuA"
      },
      "execution_count": 45,
      "outputs": []
    },
    {
      "cell_type": "markdown",
      "source": [
        "# COMPARE THE MODEL"
      ],
      "metadata": {
        "id": "hU_YHs477pPw"
      }
    },
    {
      "cell_type": "markdown",
      "source": [
        "## Decision Tree Model"
      ],
      "metadata": {
        "id": "LJ-LwsxJ7uWx"
      }
    },
    {
      "cell_type": "code",
      "source": [
        "from sklearn.tree import DecisionTreeClassifier\n",
        "from sklearn.metrics import accuracy_score,confusion_matrix,classification_report,f1_score\n"
      ],
      "metadata": {
        "id": "MCtl1lxB76-B"
      },
      "execution_count": 46,
      "outputs": []
    },
    {
      "cell_type": "code",
      "source": [
        "def decisionTreeClassifier(x_train, x_test, y_train, y_test):\n",
        "    dt = DecisionTreeClassifier() \n",
        "    dt.fit(x_train,y_train)\n",
        "    yPred = dt.predict(x_test)\n",
        "    print(\"****DecisionTreeClassifier****\") \n",
        "    print(\"Confusion matrix\")\n",
        "    print(confusion_matrix(y_test ,yPred) ) \n",
        "    print(\"Classification report\")\n",
        "    print(classification_report (y_test, yPred))\n",
        "    y_pred=dt.predict(x_test)\n",
        "    y_pred1=dt.predict(x_train)\n",
        "    print('Testing accuracy: ',accuracy_score(y_test,y_pred))\n",
        "    print('Training accuracy: ',accuracy_score(y_train,y_pred1))"
      ],
      "metadata": {
        "id": "LpY9tFKv794Z"
      },
      "execution_count": 47,
      "outputs": []
    },
    {
      "cell_type": "code",
      "source": [
        "decisionTreeClassifier(x_train, x_test, y_train, y_test)"
      ],
      "metadata": {
        "colab": {
          "base_uri": "https://localhost:8080/"
        },
        "id": "j6URthPg8BSs",
        "outputId": "c32fbda8-0f1a-4b1b-8b63-ebcea0184423"
      },
      "execution_count": 48,
      "outputs": [
        {
          "output_type": "stream",
          "name": "stdout",
          "text": [
            "****DecisionTreeClassifier****\n",
            "Confusion matrix\n",
            "[[66 38]\n",
            " [31 96]]\n",
            "Classification report\n",
            "              precision    recall  f1-score   support\n",
            "\n",
            "           0       0.68      0.63      0.66       104\n",
            "           1       0.72      0.76      0.74       127\n",
            "\n",
            "    accuracy                           0.70       231\n",
            "   macro avg       0.70      0.70      0.70       231\n",
            "weighted avg       0.70      0.70      0.70       231\n",
            "\n",
            "Testing accuracy:  0.7012987012987013\n",
            "Training accuracy:  1.0\n"
          ]
        }
      ]
    },
    {
      "cell_type": "markdown",
      "source": [
        "# Random Forest Model"
      ],
      "metadata": {
        "id": "MTDYGgsy8DFB"
      }
    },
    {
      "cell_type": "code",
      "source": [
        "from sklearn.ensemble import RandomForestClassifier\n",
        "from sklearn.metrics import accuracy_score,confusion_matrix,classification_report,f1_score\n"
      ],
      "metadata": {
        "id": "E_ChSv2g8Elo"
      },
      "execution_count": 49,
      "outputs": []
    },
    {
      "cell_type": "code",
      "source": [
        "def randomForestClassifier(x_train, x_test, y_train, y_test):\n",
        "    rf = RandomForestClassifier() \n",
        "    rf.fit(x_train,y_train)\n",
        "    yPred = rf.predict(x_test)\n",
        "    print(\"****RandomForestClassifier****\") \n",
        "    print(\"Confusion matrix\")\n",
        "    print(confusion_matrix(y_test ,yPred) ) \n",
        "    print(\"Classification report\")\n",
        "    print(classification_report (y_test, yPred))\n",
        "    y_pred=rf.predict(x_test)\n",
        "    y_pred1=rf.predict(x_train)\n",
        "    print('Testing accuracy: ',accuracy_score(y_test,y_pred))\n",
        "    print('Training accuracy: ',accuracy_score(y_train,y_pred1))"
      ],
      "metadata": {
        "id": "05ek3-zq8HuI"
      },
      "execution_count": 50,
      "outputs": []
    },
    {
      "cell_type": "code",
      "source": [
        "randomForestClassifier(x_train, x_test, y_train, y_test)"
      ],
      "metadata": {
        "colab": {
          "base_uri": "https://localhost:8080/"
        },
        "id": "s7aPrbvh8LRv",
        "outputId": "c44f52da-c6e1-45d4-8279-04c303beda41"
      },
      "execution_count": 51,
      "outputs": [
        {
          "output_type": "stream",
          "name": "stdout",
          "text": [
            "****RandomForestClassifier****\n",
            "Confusion matrix\n",
            "[[ 73  31]\n",
            " [ 13 114]]\n",
            "Classification report\n",
            "              precision    recall  f1-score   support\n",
            "\n",
            "           0       0.85      0.70      0.77       104\n",
            "           1       0.79      0.90      0.84       127\n",
            "\n",
            "    accuracy                           0.81       231\n",
            "   macro avg       0.82      0.80      0.80       231\n",
            "weighted avg       0.81      0.81      0.81       231\n",
            "\n",
            "Testing accuracy:  0.8095238095238095\n",
            "Training accuracy:  1.0\n"
          ]
        }
      ]
    },
    {
      "cell_type": "markdown",
      "source": [
        "\n",
        "# KNN Model"
      ],
      "metadata": {
        "id": "-TCsdWLF8MqQ"
      }
    },
    {
      "cell_type": "code",
      "source": [
        "from sklearn.neighbors import KNeighborsClassifier\n",
        "from sklearn.metrics import accuracy_score,confusion_matrix,classification_report,f1_score\n"
      ],
      "metadata": {
        "id": "4K1TF2Nl8Om4"
      },
      "execution_count": 52,
      "outputs": []
    },
    {
      "cell_type": "code",
      "source": [
        "def kneighborsClassifier(x_train, x_test, y_train, y_test):\n",
        "    knn = KNeighborsClassifier() \n",
        "    knn.fit(x_train,y_train)\n",
        "    yPred = knn.predict(x_test)\n",
        "    print(\"****KNeighborsClassifier****\") \n",
        "    print(\"Confusion matrix\")\n",
        "    print(confusion_matrix(y_test ,yPred) ) \n",
        "    print(\"Classification report\")\n",
        "    print(classification_report (y_test, yPred))\n",
        "    y_pred=knn.predict(x_test)\n",
        "    y_pred1=knn.predict(x_train)\n",
        "    print('Testing accuracy: ',accuracy_score(y_test,y_pred))\n",
        "    print('Training accuracy: ',accuracy_score(y_train,y_pred1))"
      ],
      "metadata": {
        "id": "0_v2Cc4T8Y1w"
      },
      "execution_count": 53,
      "outputs": []
    },
    {
      "cell_type": "code",
      "source": [
        "kneighborsClassifier(x_train, x_test, y_train, y_test)\n"
      ],
      "metadata": {
        "colab": {
          "base_uri": "https://localhost:8080/"
        },
        "id": "qawzezty8eKP",
        "outputId": "6c4e2288-d9f1-4bc6-eb26-096d8995e4d0"
      },
      "execution_count": 54,
      "outputs": [
        {
          "output_type": "stream",
          "name": "stdout",
          "text": [
            "****KNeighborsClassifier****\n",
            "Confusion matrix\n",
            "[[ 65  39]\n",
            " [ 16 111]]\n",
            "Classification report\n",
            "              precision    recall  f1-score   support\n",
            "\n",
            "           0       0.80      0.62      0.70       104\n",
            "           1       0.74      0.87      0.80       127\n",
            "\n",
            "    accuracy                           0.76       231\n",
            "   macro avg       0.77      0.75      0.75       231\n",
            "weighted avg       0.77      0.76      0.76       231\n",
            "\n",
            "Testing accuracy:  0.7619047619047619\n",
            "Training accuracy:  0.8605150214592274\n"
          ]
        }
      ]
    },
    {
      "cell_type": "markdown",
      "source": [
        "\n",
        "# Xgboost Model"
      ],
      "metadata": {
        "id": "Tb-_agpp-KHB"
      }
    },
    {
      "cell_type": "code",
      "source": [
        "from sklearn.ensemble import  GradientBoostingClassifier\n",
        "from sklearn.metrics import accuracy_score,confusion_matrix,classification_report,f1_score\n"
      ],
      "metadata": {
        "id": "ecjgVjBJ8lIJ"
      },
      "execution_count": 56,
      "outputs": []
    },
    {
      "cell_type": "code",
      "source": [
        "def xgboost(x_train, x_test, y_train, y_test):\n",
        "    xg = GradientBoostingClassifier() \n",
        "    xg.fit(x_train,y_train)\n",
        "    yPred = xg.predict(x_test)\n",
        "    print(\"****Gradient BoostingClassifier****\") \n",
        "    print(\"Confusion matrix\")\n",
        "    print(confusion_matrix(y_test ,yPred) ) \n",
        "    print(\"Classification report\")\n",
        "    print(classification_report (y_test, yPred))\n",
        "    y_pred=xg.predict(x_test)\n",
        "    y_pred1=xg.predict(x_train)\n",
        "    print('Testing accuracy: ',accuracy_score(y_test,y_pred))\n",
        "    print('Training accuracy: ',accuracy_score(y_train,y_pred1))"
      ],
      "metadata": {
        "id": "NzAyQHL88rI3"
      },
      "execution_count": 58,
      "outputs": []
    },
    {
      "cell_type": "code",
      "source": [
        "xgboost(x_train, x_test, y_train, y_test)\n"
      ],
      "metadata": {
        "colab": {
          "base_uri": "https://localhost:8080/"
        },
        "id": "6QWw1ksU8tdA",
        "outputId": "e643b9c2-fcfb-4362-d4ea-f1c86c0ea057"
      },
      "execution_count": 59,
      "outputs": [
        {
          "output_type": "stream",
          "name": "stdout",
          "text": [
            "****Gradient BoostingClassifier****\n",
            "Confusion matrix\n",
            "[[ 68  36]\n",
            " [ 14 113]]\n",
            "Classification report\n",
            "              precision    recall  f1-score   support\n",
            "\n",
            "           0       0.83      0.65      0.73       104\n",
            "           1       0.76      0.89      0.82       127\n",
            "\n",
            "    accuracy                           0.78       231\n",
            "   macro avg       0.79      0.77      0.78       231\n",
            "weighted avg       0.79      0.78      0.78       231\n",
            "\n",
            "Testing accuracy:  0.7835497835497836\n",
            "Training accuracy:  0.9356223175965666\n"
          ]
        }
      ]
    },
    {
      "cell_type": "markdown",
      "source": [
        " \n",
        "# Evaluating Performance Of The Model And Saving The Model"
      ],
      "metadata": {
        "id": "MCUkBVYM-OX_"
      }
    },
    {
      "cell_type": "code",
      "source": [
        "from sklearn.model_selection import cross_val_score"
      ],
      "metadata": {
        "id": "bGjE7YmQ8wRI"
      },
      "execution_count": 60,
      "outputs": []
    },
    {
      "cell_type": "code",
      "source": [
        "xg = GradientBoostingClassifier()"
      ],
      "metadata": {
        "id": "aGM3FGKw80gw"
      },
      "execution_count": 61,
      "outputs": []
    },
    {
      "cell_type": "code",
      "source": [
        "xg.fit(x_train,y_train)"
      ],
      "metadata": {
        "colab": {
          "base_uri": "https://localhost:8080/"
        },
        "id": "rays1R41817R",
        "outputId": "e2bd7614-8d99-46bb-ec89-683ffe61f219"
      },
      "execution_count": 62,
      "outputs": [
        {
          "output_type": "execute_result",
          "data": {
            "text/plain": [
              "GradientBoostingClassifier()"
            ]
          },
          "metadata": {},
          "execution_count": 62
        }
      ]
    },
    {
      "cell_type": "code",
      "source": [
        "yPred = xg.predict(x_test)"
      ],
      "metadata": {
        "id": "s6CqgS7s852q"
      },
      "execution_count": 63,
      "outputs": []
    },
    {
      "cell_type": "code",
      "source": [
        "f1_score(yPred,y_test, average='weighted')"
      ],
      "metadata": {
        "colab": {
          "base_uri": "https://localhost:8080/"
        },
        "id": "02pegf8q88MB",
        "outputId": "ab821c97-ad57-40b9-8c6f-746b802d7fdb"
      },
      "execution_count": 64,
      "outputs": [
        {
          "output_type": "execute_result",
          "data": {
            "text/plain": [
              "0.7786499879992657"
            ]
          },
          "metadata": {},
          "execution_count": 64
        }
      ]
    },
    {
      "cell_type": "code",
      "source": [
        "cv = cross_val_score(xg,x,y,cv=5)"
      ],
      "metadata": {
        "id": "-vqAtIAW8-bR"
      },
      "execution_count": 65,
      "outputs": []
    },
    {
      "cell_type": "code",
      "source": [
        "np.mean(cv)"
      ],
      "metadata": {
        "colab": {
          "base_uri": "https://localhost:8080/"
        },
        "id": "AZ37PZKk9AXx",
        "outputId": "4bc4b5ca-6b3b-44b1-a363-6537186d2caf"
      },
      "execution_count": 66,
      "outputs": [
        {
          "output_type": "execute_result",
          "data": {
            "text/plain": [
              "0.7149540183926429"
            ]
          },
          "metadata": {},
          "execution_count": 66
        }
      ]
    },
    {
      "cell_type": "code",
      "source": [
        "import pickle\n",
        "#saviung the model by using pickle function\n",
        "pickle.dump(xg, open('model.pkl','wb'))\n",
        "pickle.dump(sc,open(\"scalar.pkl\",\"wb\"))"
      ],
      "metadata": {
        "id": "SJgF3gEN9GHi"
      },
      "execution_count": 67,
      "outputs": []
    },
    {
      "cell_type": "code",
      "source": [
        "loaded_xg = pickle.load(open('model.pkl','rb'))\n",
        "loaded_xg.predict(x_test)"
      ],
      "metadata": {
        "colab": {
          "base_uri": "https://localhost:8080/"
        },
        "id": "AgZ7i2om9Izy",
        "outputId": "9f3c6cd1-e926-40f6-a009-c047a598f3e5"
      },
      "execution_count": 68,
      "outputs": [
        {
          "output_type": "execute_result",
          "data": {
            "text/plain": [
              "array([1, 0, 1, 1, 1, 1, 1, 0, 1, 1, 1, 1, 1, 1, 1, 1, 1, 1, 0, 0, 1, 0,\n",
              "       0, 1, 1, 1, 0, 1, 0, 1, 1, 1, 0, 1, 1, 1, 0, 1, 1, 1, 1, 1, 1, 0,\n",
              "       0, 0, 0, 0, 1, 0, 1, 1, 0, 1, 1, 1, 1, 1, 1, 0, 1, 1, 1, 1, 1, 1,\n",
              "       1, 1, 1, 0, 1, 1, 1, 1, 1, 0, 1, 0, 1, 0, 1, 1, 0, 0, 0, 0, 1, 1,\n",
              "       1, 0, 0, 0, 1, 1, 0, 1, 0, 1, 1, 1, 1, 0, 0, 1, 1, 0, 0, 0, 0, 1,\n",
              "       0, 0, 1, 1, 1, 0, 1, 1, 1, 1, 0, 1, 1, 0, 0, 1, 1, 1, 0, 0, 0, 0,\n",
              "       1, 0, 1, 1, 1, 1, 1, 0, 1, 1, 1, 0, 1, 1, 1, 1, 1, 0, 1, 0, 1, 0,\n",
              "       0, 1, 0, 1, 1, 1, 0, 1, 1, 1, 0, 1, 0, 0, 1, 0, 0, 0, 1, 1, 0, 1,\n",
              "       1, 0, 0, 1, 1, 0, 0, 0, 1, 1, 0, 1, 0, 1, 1, 0, 0, 1, 1, 0, 1, 1,\n",
              "       1, 1, 1, 0, 1, 1, 1, 1, 0, 1, 1, 0, 1, 0, 1, 0, 1, 0, 1, 1, 0, 0,\n",
              "       1, 0, 1, 1, 1, 0, 1, 1, 0, 1, 1])"
            ]
          },
          "metadata": {},
          "execution_count": 68
        }
      ]
    }
  ]
}